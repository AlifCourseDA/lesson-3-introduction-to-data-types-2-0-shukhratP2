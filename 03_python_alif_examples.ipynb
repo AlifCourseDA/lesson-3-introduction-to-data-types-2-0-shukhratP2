{
 "cells": [
  {
   "attachments": {
    "image-2.png": {
     "image/png": "[encoded data removed]"
    }
   },
   "cell_type": "markdown",
   "id": "72604ce5",
   "metadata": {
    "slideshow": {
     "slide_type": "slide"
    }
   },
   "source": [
    "![image-2.png](attachment:image-2.png)"
   ]
  },
  {
   "cell_type": "markdown",
   "id": "00dd6fb6",
   "metadata": {
    "slideshow": {
     "slide_type": "fragment"
    }
   },
   "source": [
    "# Модуль 1.1: Python для аналитиков\n",
    "\n",
    "### Урок №3: Mutability vs Immutability\n",
    "\n",
    "### Примеры"
   ]
  },
  {
   "cell_type": "code",
   "execution_count": 1,
   "id": "15a22e6a",
   "metadata": {
    "slideshow": {
     "slide_type": "slide"
    }
   },
   "outputs": [
    {
     "data": {
      "text/plain": [
       "140450933697008"
      ]
     },
     "execution_count": 1,
     "metadata": {},
     "output_type": "execute_result"
    }
   ],
   "source": [
    "# Пример 1: object identity\n",
    "\n",
    "number = 7\n",
    "\n",
    "id(number)"
   ]
  },
  {
   "cell_type": "code",
   "execution_count": 8,
   "id": "da26e9e7",
   "metadata": {
    "slideshow": {
     "slide_type": "slide"
    }
   },
   "outputs": [
    {
     "name": "stdout",
     "output_type": "stream",
     "text": [
      "140450933696784 140450933696784\n"
     ]
    }
   ],
   "source": [
    "# Пример 2: multiple assignment\n",
    "word_counter = letter_counter = 0\n",
    "\n",
    "id_wc = id(word_counter)\n",
    "\n",
    "id_lc = id(letter_counter)\n",
    "\n",
    "print(id_wc, id_lc, sep=' ')"
   ]
  },
  {
   "cell_type": "code",
   "execution_count": 9,
   "id": "b56b652e",
   "metadata": {
    "slideshow": {
     "slide_type": "fragment"
    }
   },
   "outputs": [
    {
     "data": {
      "text/plain": [
       "1"
      ]
     },
     "execution_count": 9,
     "metadata": {},
     "output_type": "execute_result"
    }
   ],
   "source": [
    "word_counter += 1\n",
    "word_counter"
   ]
  },
  {
   "cell_type": "code",
   "execution_count": 10,
   "id": "9157fa93",
   "metadata": {
    "slideshow": {
     "slide_type": "fragment"
    }
   },
   "outputs": [
    {
     "name": "stdout",
     "output_type": "stream",
     "text": [
      "140450933696816 140450933696784\n"
     ]
    }
   ],
   "source": [
    "print(id(word_counter), id(letter_counter))"
   ]
  },
  {
   "cell_type": "code",
   "execution_count": null,
   "id": "56f9d879",
   "metadata": {},
   "outputs": [],
   "source": []
  },
  {
   "cell_type": "code",
   "execution_count": 36,
   "id": "39db7664",
   "metadata": {
    "slideshow": {
     "slide_type": "fragment"
    }
   },
   "outputs": [
    {
     "data": {
      "text/plain": [
       "140154446735632"
      ]
     },
     "execution_count": 36,
     "metadata": {},
     "output_type": "execute_result"
    }
   ],
   "source": [
    "id(letter_counter)"
   ]
  },
  {
   "cell_type": "code",
   "execution_count": 11,
   "id": "62d297d0",
   "metadata": {
    "slideshow": {
     "slide_type": "slide"
    }
   },
   "outputs": [
    {
     "data": {
      "text/plain": [
       "4310279472"
      ]
     },
     "execution_count": 11,
     "metadata": {},
     "output_type": "execute_result"
    }
   ],
   "source": [
    "# Пример 3\n",
    "has_permission = True\n",
    "id(has_permission)"
   ]
  },
  {
   "cell_type": "code",
   "execution_count": 12,
   "id": "92370098",
   "metadata": {
    "slideshow": {
     "slide_type": "fragment"
    }
   },
   "outputs": [
    {
     "data": {
      "text/plain": [
       "4310280200"
      ]
     },
     "execution_count": 12,
     "metadata": {},
     "output_type": "execute_result"
    }
   ],
   "source": [
    "has_permission = False\n",
    "id(has_permission)"
   ]
  },
  {
   "cell_type": "markdown",
   "id": "c0ccf1c2",
   "metadata": {
    "slideshow": {
     "slide_type": "slide"
    }
   },
   "source": [
    "Есть еще **non-sequence** тип данных **byte**, но о нем немного поговорим наряду с **sequence-типом** **bytearray**.\n",
    "\n",
    "> Эти типы данных **не** являются объектом нашего занятия, но их тоже будет полезно знать"
   ]
  },
  {
   "cell_type": "markdown",
   "id": "5039cbd4",
   "metadata": {
    "slideshow": {
     "slide_type": "slide"
    }
   },
   "source": [
    "### Strings"
   ]
  },
  {
   "cell_type": "markdown",
   "id": "7fa14936",
   "metadata": {
    "slideshow": {
     "slide_type": "fragment"
    }
   },
   "source": [
    "Python strings are **sequences of individual characters**. Because they’re sequences, you can efficiently access any individual character in a given string using the indexing operator ([])"
   ]
  },
  {
   "cell_type": "code",
   "execution_count": 13,
   "id": "57a642a4",
   "metadata": {
    "slideshow": {
     "slide_type": "slide"
    }
   },
   "outputs": [
    {
     "name": "stdout",
     "output_type": "stream",
     "text": [
      "H\n",
      "e\n",
      "l\n"
     ]
    }
   ],
   "source": [
    "greeting = \"Hello!\"\n",
    "\n",
    "print(greeting[0])\n",
    "\n",
    "print(greeting[1])\n",
    "\n",
    "print(greeting[2])"
   ]
  },
  {
   "cell_type": "code",
   "execution_count": 15,
   "id": "708b69b4",
   "metadata": {
    "slideshow": {
     "slide_type": "slide"
    }
   },
   "outputs": [
    {
     "name": "stdout",
     "output_type": "stream",
     "text": [
      "140450397016368\n",
      "140450934695408\n",
      "140450934752432\n",
      "140450671206960\n"
     ]
    }
   ],
   "source": [
    "print(id(greeting[0]), id(greeting[1]), id(greeting[2]), sep='\\n')\n",
    "print(id(greeting))"
   ]
  },
  {
   "cell_type": "code",
   "execution_count": 16,
   "id": "90baeef7",
   "metadata": {
    "slideshow": {
     "slide_type": "fragment"
    }
   },
   "outputs": [
    {
     "name": "stdout",
     "output_type": "stream",
     "text": [
      "140450671206960\n"
     ]
    }
   ],
   "source": [
    "print(id(greeting))"
   ]
  },
  {
   "cell_type": "code",
   "execution_count": 17,
   "id": "75902f02",
   "metadata": {
    "slideshow": {
     "slide_type": "slide"
    }
   },
   "outputs": [
    {
     "ename": "TypeError",
     "evalue": "'str' object does not support item assignment",
     "output_type": "error",
     "traceback": [
      "\u001b[0;31m---------------------------------------------------------------------------\u001b[0m",
      "\u001b[0;31mTypeError\u001b[0m                                 Traceback (most recent call last)",
      "\u001b[0;32m/var/folders/n0/smq5fg256x31yyqwtsnfdpwr0000gn/T/ipykernel_9790/4108998151.py\u001b[0m in \u001b[0;36m<module>\u001b[0;34m\u001b[0m\n\u001b[1;32m      1\u001b[0m \u001b[0;31m# изменение отдельных элементов не поддерживается\u001b[0m\u001b[0;34m\u001b[0m\u001b[0;34m\u001b[0m\u001b[0m\n\u001b[1;32m      2\u001b[0m \u001b[0;34m\u001b[0m\u001b[0m\n\u001b[0;32m----> 3\u001b[0;31m \u001b[0mgreeting\u001b[0m\u001b[0;34m[\u001b[0m\u001b[0;36m1\u001b[0m\u001b[0;34m]\u001b[0m \u001b[0;34m=\u001b[0m \u001b[0;34m\"E\"\u001b[0m\u001b[0;34m\u001b[0m\u001b[0;34m\u001b[0m\u001b[0m\n\u001b[0m\u001b[1;32m      4\u001b[0m \u001b[0;34m\u001b[0m\u001b[0m\n\u001b[1;32m      5\u001b[0m \u001b[0;31m# но существует обходной способо сделть это с помощью bytearray\u001b[0m\u001b[0;34m\u001b[0m\u001b[0;34m\u001b[0m\u001b[0m\n",
      "\u001b[0;31mTypeError\u001b[0m: 'str' object does not support item assignment"
     ]
    }
   ],
   "source": [
    "# изменение отдельных элементов не поддерживается\n",
    "\n",
    "greeting[1] = \"E\"\n",
    "\n",
    "# но существует обходной способо сделть это с помощью bytearray"
   ]
  },
  {
   "cell_type": "code",
   "execution_count": 43,
   "id": "ec48a1a9",
   "metadata": {
    "slideshow": {
     "slide_type": "slide"
    }
   },
   "outputs": [
    {
     "name": "stdout",
     "output_type": "stream",
     "text": [
      "140153520982896\n",
      "bytearray(b'HEllo!')\n",
      "140153520982896\n"
     ]
    }
   ],
   "source": [
    "greeting = \"Hello!\"\n",
    "\n",
    "mutable_greeting = bytearray(greeting.encode(\"utf-8\"))\n",
    "print(id(mutable_greeting))\n",
    "\n",
    "\n",
    "mutable_greeting[1] = ord(\"E\")\n",
    "print(mutable_greeting)\n",
    "\n",
    "\n",
    "print(id(mutable_greeting))"
   ]
  },
  {
   "cell_type": "code",
   "execution_count": 44,
   "id": "29ac06f7",
   "metadata": {
    "slideshow": {
     "slide_type": "slide"
    }
   },
   "outputs": [
    {
     "name": "stdout",
     "output_type": "stream",
     "text": [
      "140153520871408\n",
      "140153520982320\n"
     ]
    }
   ],
   "source": [
    "greeting = \"Hello!\"\n",
    "print(id(greeting))\n",
    "\n",
    "\n",
    "greeting = \"Hello,\" + \"World!\"\n",
    "print(id(greeting))\n",
    "\n",
    "# Почему identity различается? "
   ]
  },
  {
   "cell_type": "code",
   "execution_count": 45,
   "id": "63df9034",
   "metadata": {
    "slideshow": {
     "slide_type": "slide"
    }
   },
   "outputs": [
    {
     "data": {
      "text/plain": [
       "140152836192416"
      ]
     },
     "execution_count": 45,
     "metadata": {},
     "output_type": "execute_result"
    }
   ],
   "source": [
    "greeting = \"Hello, Pythonistas!\"\n",
    "greeting\n",
    "\n",
    "id(greeting)"
   ]
  },
  {
   "cell_type": "code",
   "execution_count": 46,
   "id": "e87cb2c5",
   "metadata": {
    "slideshow": {
     "slide_type": "fragment"
    }
   },
   "outputs": [
    {
     "data": {
      "text/plain": [
       "140153521003216"
      ]
     },
     "execution_count": 46,
     "metadata": {},
     "output_type": "execute_result"
    }
   ],
   "source": [
    "greeting = greeting.upper()\n",
    "greeting\n",
    "\n",
    "id(greeting)"
   ]
  },
  {
   "cell_type": "code",
   "execution_count": 47,
   "id": "47645dc1",
   "metadata": {
    "slideshow": {
     "slide_type": "fragment"
    }
   },
   "outputs": [
    {
     "data": {
      "text/plain": [
       "140152836194016"
      ]
     },
     "execution_count": 47,
     "metadata": {},
     "output_type": "execute_result"
    }
   ],
   "source": [
    "greeting = greeting.lower()\n",
    "greeting\n",
    "\n",
    "id(greeting)"
   ]
  },
  {
   "cell_type": "code",
   "execution_count": 48,
   "id": "ffa5953b",
   "metadata": {
    "slideshow": {
     "slide_type": "fragment"
    }
   },
   "outputs": [
    {
     "data": {
      "text/plain": [
       "140152836192176"
      ]
     },
     "execution_count": 48,
     "metadata": {},
     "output_type": "execute_result"
    }
   ],
   "source": [
    "greeting = greeting.title()\n",
    "greeting\n",
    "\n",
    "id(greeting)"
   ]
  },
  {
   "cell_type": "markdown",
   "id": "1158bcc6",
   "metadata": {
    "slideshow": {
     "slide_type": "slide"
    }
   },
   "source": [
    "### Tuples\n"
   ]
  },
  {
   "cell_type": "markdown",
   "id": "eb117785",
   "metadata": {
    "slideshow": {
     "slide_type": "fragment"
    }
   },
   "source": [
    " Like strings, tuples are sequences. \n",
    " \n",
    " However, unlike strings, tuples allow you to store any type of object rather than just characters. This feature probably seems great at first glance"
   ]
  },
  {
   "cell_type": "code",
   "execution_count": 18,
   "id": "4524028c",
   "metadata": {
    "slideshow": {
     "slide_type": "slide"
    }
   },
   "outputs": [
    {
     "data": {
      "text/plain": [
       "tuple"
      ]
     },
     "execution_count": 18,
     "metadata": {},
     "output_type": "execute_result"
    }
   ],
   "source": [
    "letters = (\"a\", \"b\", \"c\", \"d\")\n",
    "type(letters)"
   ]
  },
  {
   "cell_type": "code",
   "execution_count": 19,
   "id": "27abbe4e",
   "metadata": {
    "slideshow": {
     "slide_type": "fragment"
    }
   },
   "outputs": [
    {
     "data": {
      "text/plain": [
       "tuple"
      ]
     },
     "execution_count": 19,
     "metadata": {},
     "output_type": "execute_result"
    }
   ],
   "source": [
    "letters = \"a\", \"b\", \"c\", \"d\"\n",
    "type(letters)"
   ]
  },
  {
   "cell_type": "markdown",
   "id": "c0d7c4f7",
   "metadata": {
    "slideshow": {
     "slide_type": "slide"
    }
   },
   "source": [
    "Like with strings and other sequences, you can use the indexing operator to access individual items from an existing tuple. \n",
    "\n",
    "However, you can’t use indexing on the left side of an assignment because tuples are immutable:"
   ]
  },
  {
   "cell_type": "code",
   "execution_count": 24,
   "id": "ced24af0",
   "metadata": {},
   "outputs": [
    {
     "ename": "TypeError",
     "evalue": "'tuple' object does not support item assignment",
     "output_type": "error",
     "traceback": [
      "\u001b[0;31m---------------------------------------------------------------------------\u001b[0m",
      "\u001b[0;31mTypeError\u001b[0m                                 Traceback (most recent call last)",
      "\u001b[0;32m/var/folders/n0/smq5fg256x31yyqwtsnfdpwr0000gn/T/ipykernel_9790/1505408980.py\u001b[0m in \u001b[0;36m<module>\u001b[0;34m\u001b[0m\n\u001b[0;32m----> 1\u001b[0;31m \u001b[0mletters\u001b[0m\u001b[0;34m[\u001b[0m\u001b[0;36m0\u001b[0m\u001b[0;34m]\u001b[0m \u001b[0;34m=\u001b[0m \u001b[0;36m1\u001b[0m\u001b[0;34m\u001b[0m\u001b[0;34m\u001b[0m\u001b[0m\n\u001b[0m",
      "\u001b[0;31mTypeError\u001b[0m: 'tuple' object does not support item assignment"
     ]
    }
   ],
   "source": [
    "letters[0] = 1"
   ]
  },
  {
   "cell_type": "code",
   "execution_count": 20,
   "id": "e4bdd4e2",
   "metadata": {
    "slideshow": {
     "slide_type": "fragment"
    }
   },
   "outputs": [
    {
     "name": "stdout",
     "output_type": "stream",
     "text": [
      "a\n",
      "b\n",
      "c\n"
     ]
    }
   ],
   "source": [
    "print(letters[0], letters[1], letters[2], sep = '\\n')"
   ]
  },
  {
   "cell_type": "code",
   "execution_count": 23,
   "id": "9501cbe5",
   "metadata": {
    "slideshow": {
     "slide_type": "fragment"
    }
   },
   "outputs": [
    {
     "name": "stdout",
     "output_type": "stream",
     "text": [
      "('a', 'b')\n",
      "('b', 'c')\n",
      "('c', 'd')\n"
     ]
    }
   ],
   "source": [
    "print(letters[:2], letters[1:3], letters[2:4], sep = '\\n')"
   ]
  },
  {
   "cell_type": "code",
   "execution_count": 22,
   "id": "db1c9918",
   "metadata": {
    "slideshow": {
     "slide_type": "fragment"
    }
   },
   "outputs": [
    {
     "name": "stdout",
     "output_type": "stream",
     "text": [
      "140450934789296\n",
      "140450665174064\n",
      "140450934473200\n"
     ]
    }
   ],
   "source": [
    "print(id(letters[0]), id(letters[1]), id(letters[2]), sep = '\\n')"
   ]
  },
  {
   "cell_type": "code",
   "execution_count": 25,
   "id": "87873b6b",
   "metadata": {
    "scrolled": true,
    "slideshow": {
     "slide_type": "fragment"
    }
   },
   "outputs": [
    {
     "ename": "TypeError",
     "evalue": "'tuple' object does not support item assignment",
     "output_type": "error",
     "traceback": [
      "\u001b[0;31m---------------------------------------------------------------------------\u001b[0m",
      "\u001b[0;31mTypeError\u001b[0m                                 Traceback (most recent call last)",
      "\u001b[0;32m/var/folders/n0/smq5fg256x31yyqwtsnfdpwr0000gn/T/ipykernel_9790/859891604.py\u001b[0m in \u001b[0;36m<module>\u001b[0;34m\u001b[0m\n\u001b[0;32m----> 1\u001b[0;31m \u001b[0mletters\u001b[0m\u001b[0;34m[\u001b[0m\u001b[0;36m0\u001b[0m\u001b[0;34m]\u001b[0m \u001b[0;34m=\u001b[0m \u001b[0;34m\"A\"\u001b[0m\u001b[0;34m\u001b[0m\u001b[0;34m\u001b[0m\u001b[0m\n\u001b[0m",
      "\u001b[0;31mTypeError\u001b[0m: 'tuple' object does not support item assignment"
     ]
    }
   ],
   "source": [
    "letters[0] = \"A\""
   ]
  },
  {
   "cell_type": "markdown",
   "id": "f569abae",
   "metadata": {
    "slideshow": {
     "slide_type": "slide"
    }
   },
   "source": [
    "In practice, you’ll use tuples when you need an ordered sequence of values that never changes during its lifetime. Good examples of where to use tuples include records from a SQL database and lines from a CSV file. Tuples like these tell someone reading your code that you don’t intend for that sequence of values to change."
   ]
  },
  {
   "cell_type": "markdown",
   "id": "3ff4acd5",
   "metadata": {
    "slideshow": {
     "slide_type": "slide"
    }
   },
   "source": [
    "### Mutable Built-in collections\n",
    "\n",
    "These types allow you to change the value of specific items without affecting the identity of the container object."
   ]
  },
  {
   "cell_type": "markdown",
   "id": "ef5fecbb",
   "metadata": {
    "slideshow": {
     "slide_type": "slide"
    }
   },
   "source": [
    "### Lists"
   ]
  },
  {
   "cell_type": "markdown",
   "id": "80b12306",
   "metadata": {
    "slideshow": {
     "slide_type": "fragment"
    }
   },
   "source": [
    "Python lists are a classic example of a mutable data type. Like tuples, lists are sequences of arbitrary objects. In a list, however, you can change the value of any item without altering the list’s identity. In other words, you can change the value of a list object in place."
   ]
  },
  {
   "cell_type": "code",
   "execution_count": 26,
   "id": "dd20ad74",
   "metadata": {
    "slideshow": {
     "slide_type": "slide"
    }
   },
   "outputs": [
    {
     "name": "stdout",
     "output_type": "stream",
     "text": [
      "0\n",
      "9\n"
     ]
    }
   ],
   "source": [
    "digits = [0, 1, 2, 3, 4, 5, 6, 7, 8, 9]\n",
    "print(digits[0], digits[9], sep='\\n')"
   ]
  },
  {
   "cell_type": "code",
   "execution_count": 27,
   "id": "d66d7a4d",
   "metadata": {
    "slideshow": {
     "slide_type": "fragment"
    }
   },
   "outputs": [
    {
     "name": "stdout",
     "output_type": "stream",
     "text": [
      "[3, 4, 5, 6]\n",
      "[2, 4, 6, 8]\n",
      "[1, 3, 5, 7, 9]\n"
     ]
    }
   ],
   "source": [
    "print(digits[3:7], digits[2::2], digits[1::2], sep='\\n')\n"
   ]
  },
  {
   "cell_type": "code",
   "execution_count": 28,
   "id": "4acf8b84",
   "metadata": {
    "slideshow": {
     "slide_type": "fragment"
    }
   },
   "outputs": [
    {
     "name": "stdout",
     "output_type": "stream",
     "text": [
      "140153520963648\n",
      "140153520963648\n",
      "140153520963648\n"
     ]
    }
   ],
   "source": [
    "print(id(digits[3:7]), id(digits[2::2]), id(digits[1::2]), sep='\\n')\n"
   ]
  },
  {
   "cell_type": "code",
   "execution_count": 26,
   "id": "c9f28230",
   "metadata": {
    "slideshow": {
     "slide_type": "slide"
    }
   },
   "outputs": [
    {
     "name": "stdout",
     "output_type": "stream",
     "text": [
      "140450671203840\n",
      "140449323446544\n"
     ]
    }
   ],
   "source": [
    "numbers = [1, 2, 314]\n",
    "print(id(numbers))\n",
    "print(id(numbers[2]))"
   ]
  },
  {
   "cell_type": "code",
   "execution_count": 33,
   "id": "3faa0c1f",
   "metadata": {
    "slideshow": {
     "slide_type": "fragment"
    }
   },
   "outputs": [
    {
     "name": "stdout",
     "output_type": "stream",
     "text": [
      "140450671203840\n"
     ]
    },
    {
     "data": {
      "text/plain": [
       "140450671203840"
      ]
     },
     "execution_count": 33,
     "metadata": {},
     "output_type": "execute_result"
    }
   ],
   "source": [
    "# numbers[2] = 3  # Mutation\n",
    "print(id(numbers))\n",
    "# print(id(numbers[2]))\n",
    "\n",
    "# del numbers[2]\n",
    "# print(id(numbers[2]))\n",
    "id(numbers)"
   ]
  },
  {
   "attachments": {
    "image.png": {
     "image/png": "[encoded data removed]"
    }
   },
   "cell_type": "markdown",
   "id": "2f9ddbbc",
   "metadata": {
    "slideshow": {
     "slide_type": "slide"
    }
   },
   "source": [
    "![image.png](attachment:image.png)"
   ]
  },
  {
   "cell_type": "markdown",
   "id": "f798fe6c",
   "metadata": {
    "slideshow": {
     "slide_type": "slide"
    }
   },
   "source": [
    "### Sets"
   ]
  },
  {
   "cell_type": "code",
   "execution_count": 7,
   "id": "a8c1c8ab",
   "metadata": {
    "slideshow": {
     "slide_type": "slide"
    }
   },
   "outputs": [
    {
     "data": {
      "text/plain": [
       "{'apple', 'banana', 'lemon', 'orange'}"
      ]
     },
     "execution_count": 7,
     "metadata": {},
     "output_type": "execute_result"
    }
   ],
   "source": [
    "# fruits = {\"apple\", \"orange\", \"banana\"}\n",
    "fruits.add(\"lemon\")\n",
    "fruits\n",
    "\n",
    "# fruits.add(\"orange\")\n",
    "# fruits\n",
    "\n",
    "\n",
    "# fruits.update({\"grape\", \"orange\"})\n",
    "# fruits"
   ]
  },
  {
   "cell_type": "code",
   "execution_count": 8,
   "id": "35882de4",
   "metadata": {
    "slideshow": {
     "slide_type": "slide"
    }
   },
   "outputs": [
    {
     "ename": "KeyError",
     "evalue": "'mango'",
     "output_type": "error",
     "traceback": [
      "\u001b[0;31m---------------------------------------------------------------------------\u001b[0m",
      "\u001b[0;31mKeyError\u001b[0m                                  Traceback (most recent call last)",
      "\u001b[0;32m/var/folders/n0/smq5fg256x31yyqwtsnfdpwr0000gn/T/ipykernel_10198/2396326377.py\u001b[0m in \u001b[0;36m<module>\u001b[0;34m\u001b[0m\n\u001b[1;32m      2\u001b[0m \u001b[0mfruits\u001b[0m\u001b[0;34m\u001b[0m\u001b[0;34m\u001b[0m\u001b[0m\n\u001b[1;32m      3\u001b[0m \u001b[0;34m\u001b[0m\u001b[0m\n\u001b[0;32m----> 4\u001b[0;31m \u001b[0mfruits\u001b[0m\u001b[0;34m.\u001b[0m\u001b[0mremove\u001b[0m\u001b[0;34m(\u001b[0m\u001b[0;34m\"mango\"\u001b[0m\u001b[0;34m)\u001b[0m\u001b[0;34m\u001b[0m\u001b[0;34m\u001b[0m\u001b[0m\n\u001b[0m\u001b[1;32m      5\u001b[0m \u001b[0;34m\u001b[0m\u001b[0m\n\u001b[1;32m      6\u001b[0m \u001b[0mfruits\u001b[0m\u001b[0;34m.\u001b[0m\u001b[0mdiscard\u001b[0m\u001b[0;34m(\u001b[0m\u001b[0;34m\"mango\"\u001b[0m\u001b[0;34m)\u001b[0m\u001b[0;34m\u001b[0m\u001b[0;34m\u001b[0m\u001b[0m\n",
      "\u001b[0;31mKeyError\u001b[0m: 'mango'"
     ]
    }
   ],
   "source": [
    "fruits.remove(\"apple\")\n",
    "fruits\n",
    "\n",
    "fruits.remove(\"mango\")\n",
    "\n",
    "fruits.discard(\"mango\")\n",
    "fruits\n",
    "\n",
    "\n",
    "fruits.pop()\n",
    "\n",
    "fruits"
   ]
  },
  {
   "cell_type": "code",
   "execution_count": null,
   "id": "90853cc4",
   "metadata": {
    "slideshow": {
     "slide_type": "slide"
    }
   },
   "outputs": [],
   "source": [
    "# Regular operators\n",
    "{\"apple\", \"orange\"} | {\"banana\"}  # Union\n",
    "\n",
    "{\"apple\", \"orange\"} & {\"apple\"}  # Intersection\n",
    "\n",
    "{\"apple\", \"orange\"} - {\"apple\", \"banana\"}  # Difference\n",
    "\n",
    "{\"apple\", \"orange\"} ^ {\"apple\", \"banana\"}  # Symmetric difference\n",
    "\n"
   ]
  },
  {
   "cell_type": "code",
   "execution_count": 13,
   "id": "e578c006",
   "metadata": {
    "slideshow": {
     "slide_type": "slide"
    }
   },
   "outputs": [
    {
     "data": {
      "text/plain": [
       "{'apple'}"
      ]
     },
     "execution_count": 13,
     "metadata": {},
     "output_type": "execute_result"
    }
   ],
   "source": [
    "# Augmented operators\n",
    "fruits = {\"apple\", \"orange\"}\n",
    "id(fruits)\n",
    "\n",
    "fruits |= {\"banana\"}  # Augmented union\n",
    "fruits\n",
    "\n",
    "# id(fruits)\n",
    "\n",
    "\n",
    "fruits = {\"apple\", \"orange\"}\n",
    "fruits\n",
    "# id(fruits)\n",
    "\n",
    "fruits &= {\"apple\"}  # Augmented intersection\n",
    "fruits\n",
    "\n",
    "# id(fruits)"
   ]
  },
  {
   "cell_type": "markdown",
   "id": "0233b1e6",
   "metadata": {
    "slideshow": {
     "slide_type": "slide"
    }
   },
   "source": [
    "### Dictionaries"
   ]
  },
  {
   "cell_type": "code",
   "execution_count": 14,
   "id": "4d42801e",
   "metadata": {
    "slideshow": {
     "slide_type": "slide"
    }
   },
   "outputs": [],
   "source": [
    "countries_and_capitals = [(\"Россия\", \"Москва\"), (\"США\", \"Вашингтон\"), (\"Франция\", \"Париж\")]"
   ]
  },
  {
   "cell_type": "code",
   "execution_count": 15,
   "id": "ab16a5cf",
   "metadata": {
    "slideshow": {
     "slide_type": "slide"
    }
   },
   "outputs": [
    {
     "name": "stdout",
     "output_type": "stream",
     "text": [
      "Париж\n"
     ]
    }
   ],
   "source": [
    "countries_and_capitals = [(\"Россия\", \"Москва\"), (\"США\", \"Вашингтон\"), (\"Франция\", \"Париж\")]\n",
    "for country in countries_and_capitals:\n",
    "    if country[0] == \"Франция\":\n",
    "        print(country[1])\n",
    "        break"
   ]
  },
  {
   "cell_type": "code",
   "execution_count": 16,
   "id": "a7a78da8",
   "metadata": {
    "slideshow": {
     "slide_type": "slide"
    }
   },
   "outputs": [
    {
     "name": "stdout",
     "output_type": "stream",
     "text": [
      "Париж\n"
     ]
    }
   ],
   "source": [
    "countries_and_capitals = {\"Россия\": \"Москва\",\n",
    "                          \"США\": \"Вашингтон\",\n",
    "                          \"Франция\": \"Париж\"}\n",
    "print(countries_and_capitals[\"Франция\"])"
   ]
  },
  {
   "cell_type": "code",
   "execution_count": 17,
   "id": "23210faf",
   "metadata": {
    "slideshow": {
     "slide_type": "slide"
    }
   },
   "outputs": [
    {
     "name": "stdout",
     "output_type": "stream",
     "text": [
      "{'Россия': 'Москва', 'США': 'Вашингтон', 'Франция': 'Париж', 'Сербия': 'Белград'}\n"
     ]
    }
   ],
   "source": [
    "countries_and_capitals = {\"Россия\": \"Москва\",\n",
    "                          \"США\": \"Вашингтон\",\n",
    "                          \"Франция\": \"Париж\"}\n",
    "countries_and_capitals[\"Сербия\"] = \"Белград\"\n",
    "print(countries_and_capitals)"
   ]
  },
  {
   "cell_type": "code",
   "execution_count": 18,
   "id": "2a489d02",
   "metadata": {
    "slideshow": {
     "slide_type": "slide"
    }
   },
   "outputs": [
    {
     "name": "stdout",
     "output_type": "stream",
     "text": [
      "new_value\n"
     ]
    }
   ],
   "source": [
    "d = {\"key\": \"old_value\"}\n",
    "d[\"key\"] = \"new_value\"\n",
    "print(d[\"key\"])"
   ]
  },
  {
   "cell_type": "code",
   "execution_count": null,
   "id": "cd4020cc",
   "metadata": {
    "slideshow": {
     "slide_type": "slide"
    }
   },
   "outputs": [],
   "source": [
    "countries_and_capitals = {\"Россия\": \"Москва\",\n",
    "                          \"США\": \"Вашингтон\",\n",
    "                          \"Франция\": \"Париж\"}\n",
    "print(countries_and_capitals[\"Сербия\"])"
   ]
  },
  {
   "cell_type": "code",
   "execution_count": 19,
   "id": "070c5eff",
   "metadata": {
    "slideshow": {
     "slide_type": "slide"
    }
   },
   "outputs": [
    {
     "name": "stdout",
     "output_type": "stream",
     "text": [
      "Страна пока не добавлена в словарь\n"
     ]
    }
   ],
   "source": [
    "countries_and_capitals = {\"Россия\": \"Москва\",\n",
    "                          \"США\": \"Вашингтон\",\n",
    "                          \"Франция\": \"Париж\"}\n",
    "if \"Сербия\" in countries_and_capitals:\n",
    "    print(countries_and_capitals[\"Сербия\"])\n",
    "else:\n",
    "    print(\"Страна пока не добавлена в словарь\")"
   ]
  },
  {
   "cell_type": "code",
   "execution_count": 20,
   "id": "f720de2d",
   "metadata": {
    "slideshow": {
     "slide_type": "slide"
    }
   },
   "outputs": [
    {
     "name": "stdout",
     "output_type": "stream",
     "text": [
      "У страны Россия столица — Москва.\n",
      "У страны США столица — Вашингтон.\n",
      "У страны Франция столица — Париж.\n"
     ]
    }
   ],
   "source": [
    "countries_and_capitals = {\"Россия\": \"Москва\",\n",
    "                          \"США\": \"Вашингтон\",\n",
    "                          \"Франция\": \"Париж\"}\n",
    "for country in countries_and_capitals:\n",
    "    print(f\"У страны {country} столица — {countries_and_capitals[country]}.\")"
   ]
  }
 ],
 "metadata": {
  "celltoolbar": "Slideshow",
  "kernelspec": {
   "display_name": "Python 3 (ipykernel)",
   "language": "python",
   "name": "python3"
  },
  "language_info": {
   "codemirror_mode": {
    "name": "ipython",
    "version": 3
   },
   "file_extension": ".py",
   "mimetype": "text/x-python",
   "name": "python",
   "nbconvert_exporter": "python",
   "pygments_lexer": "ipython3",
   "version": "3.9.13"
  }
 },
 "nbformat": 4,
 "nbformat_minor": 5
}
